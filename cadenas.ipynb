{
 "cells": [
  {
   "cell_type": "markdown",
   "metadata": {},
   "source": [
    "# Evaluacion de infraestructura en cadenas logisticas de suministros\n",
    "\n",
    "Dentro de la cadena de suministro, la logística sirve para la planificación, gestión y control del almacenamiento de bienes, así como los servicios necesarios y el flujo de información generada, que va desde el punto de origen del producto hasta el punto de consumo, y cuyo objetivo es cubrir la demananda de los consumidores.\n",
    "\n",
    "Dado que un objetivo primordial dentro de la cadena de suministro es trnaportar un producto x a través de un numero n de puntos de infraestructura de forma optima. Es importante evaluar los costos de trasporte entre cada uno de los elementos de la cadena, ya que esto permite identificar puntos donde la inraestructura no es suficiente o la conectividad no es la adecuada. \n",
    "\n",
    "Esta aplicación permite dado un numero n de etapas, calcular los costos acumulados de transporte desde el punto de inicio hasta cada uno de los estadíos de la cadena. \n",
    "\n",
    "\n",
    "### Suposiciones\n",
    "\n",
    "\n",
    "- Todas las etapas tienen un identificador único que se llama id\n",
    "- La red es fija y la tabla se llama red\n",
    "- La tabla de vértices se llama red_vertices_pgr\n",
    "- tiene una columna que se llama costo\n",
    "- tiene campos source y target\n",
    "- todas las columnas de geometría se llaman geom"
   ]
  },
  {
   "cell_type": "markdown",
   "metadata": {},
   "source": [
    "Para comenzar a estructurar esta aplicación vamos crear una conexión entre Postgres-postGis y Python con ayuda de las librerías psycopg2 y sqlalchemy. Además vamos a interoperar dataframes y con geodataframes para poder obtener interpolaciones IDW para el diagnostico de cada etapa dentro de la cadena. "
   ]
  },
  {
   "cell_type": "markdown",
   "metadata": {},
   "source": [
    "Para continuar es necesario tomar en cuenta que el desarrollo de una aplicación tiene dos etapas importantes:\n",
    "\n",
    "el __Frontend__ que es la parte que interactúa con los usuarios, por eso decimos que está del lado del _cliente_ y __Backend__ que es la parte que se conecta con la base de datos y el servidor, por eso decimos que el backend corre del lado del _servidor_. Nosotros estaremos trabajando sobre el __Backend__.\n"
   ]
  },
  {
   "cell_type": "markdown",
   "metadata": {},
   "source": [
    "Primero hay que crear un enviroment de un archivo .yml\n",
    "\n",
    "`conda env create -f cadenas.yml` "
   ]
  },
  {
   "cell_type": "code",
   "execution_count": 1,
   "metadata": {},
   "outputs": [],
   "source": [
    "import psycopg2\n",
    "from sqlalchemy import create_engine\n",
    "import pandas as pd\n",
    "from functools import reduce\n",
    "import geopandas as gpd\n",
    "import numpy as np\n",
    "import matplotlib.pyplot as plt\n",
    "import rasterio\n",
    "from rasterio.transform import from_origin\n",
    "import io\n",
    "from subprocess import call"
   ]
  },
  {
   "cell_type": "markdown",
   "metadata": {},
   "source": [
    "### Parámetros de la conexión\n",
    "La idea de diseñar este tipo de aplicaciones desde cero, es poder trabajar con ellas tanto en un servidor local como uno remoto. Por lo que, es necesario delimitar los parametros de la conexión con la base de datos como variables. Aquí servidor, usuario, password y base de datos están fijos."
   ]
  },
  {
   "cell_type": "code",
   "execution_count": 2,
   "metadata": {},
   "outputs": [],
   "source": [
    "db = 'cadenas'\n",
    "usr = 'postgres' \n",
    "psw = '12345' \n",
    "host = 'localhost'"
   ]
  },
  {
   "cell_type": "code",
   "execution_count": 3,
   "metadata": {},
   "outputs": [],
   "source": [
    "con = psycopg2.connect(database= db, user=usr, password=psw, host=host)\n",
    "engine = create_engine('postgresql://{}:{}@{}:5432/{}'.format(usr,psw,host,db))"
   ]
  },
  {
   "cell_type": "markdown",
   "metadata": {},
   "source": [
    "Al estar trabajando sobre el __Backend__ es necesario ir delimitando cuales serán las condiciones que serán manipuladas por el usuario a través del __Frontend__. En este caso, dado que queremos que la aplicación pueda funcionar con cualquier tipo de cadena de suministro con un número de etapas mayor a _n+2_  para comenzar las pruebas nosotros delimitamos una lista, sin embargo al momento de la implementación elusuario deberá cargar la información a la base de datos a través de la interfaz. Lo que la hace adaptativa, en este casi trabajaremos con 4 etapas.  "
   ]
  },
  {
   "cell_type": "code",
   "execution_count": 4,
   "metadata": {},
   "outputs": [],
   "source": [
    "etapas = ['etapa1', 'etapa2', 'etapa3', 'etapa4','etapa5' ]"
   ]
  },
  {
   "cell_type": "markdown",
   "metadata": {},
   "source": [
    "### Relaciones entre nodos y etapas\n",
    "\n",
    "La forma más fácil para trabajar con redes de transporte es a través de pgrouting y postGis, por lo que será necesario estructurar funciones en python que utilicen postGis-postgres y acepten inputs externos de forma iterativa. \n",
    "\n",
    "la función node_relations asigna a cada punto de cada etapa el nodo más cercano de la red. Y se crean las tablas con las relaciones:`etapa_i_node`, cada tabla tiene dos columnas, el id de la tabla de etapas y el id de la tabla de nodos.\n",
    "\n",
    "Como pueden observar si bien estamos trabajando con tablas desde la base de datos, al final lo que devuelve la función es un dataframe de pandas, con el siguiente comando: \n",
    "``df = pd.read_sql(sql, engine)`` y lo carga a la base de datos de nuevo: `df.to_sql(table + '_node', engine)` "
   ]
  },
  {
   "cell_type": "code",
   "execution_count": 11,
   "metadata": {},
   "outputs": [],
   "source": [
    "def node_relations(table, engine, connection):\n",
    "    \"\"\"Toma una tabla de puntos y le agrega una columna con el id del\n",
    "       nodo más cercano de la red.\n",
    "       Elimina la tabla de relaciones en caso de que exista.\n",
    "       Regresa el dataframe con la relación.\n",
    "    \"\"\"\n",
    "    drop_qry = \"\"\"drop table if exists %(tabla)s_node\"\"\" % {\"tabla\": table}\n",
    "    curs = connection.cursor()\n",
    "    curs.execute(drop_qry)\n",
    "    connection.commit()\n",
    "    sql = \"\"\"\n",
    "            select f.id as id_%(tabla)s, (\n",
    "              SELECT n.id\n",
    "              FROM red_vertices_pgr As n\n",
    "              ORDER BY f.geom <-> n.the_geom LIMIT 1\n",
    "            )as closest_node\n",
    "            from %(tabla)s f\n",
    "          \"\"\" % {\"tabla\": table}\n",
    "    try:\n",
    "        df = pd.read_sql(sql, engine)\n",
    "    except ValueError as e:\n",
    "        print(e)\n",
    "    try:\n",
    "        df.to_sql(table + '_node', engine)\n",
    "    except ValueError as e:\n",
    "        print(e)\n",
    "    return df"
   ]
  },
  {
   "cell_type": "markdown",
   "metadata": {},
   "source": [
    "Entonces, para agregar todas las tablas de relaciones hacemos:"
   ]
  },
  {
   "cell_type": "code",
   "execution_count": 12,
   "metadata": {},
   "outputs": [],
   "source": [
    "node_relations_list = []\n",
    "for etapa in etapas:\n",
    "    node_relations_list.append(node_relations(etapa, engine, con))"
   ]
  },
  {
   "cell_type": "markdown",
   "metadata": {},
   "source": [
    "Lo que nos da como resultado una lista con las relaciones entre los untos de cada etapa y el nodo más cercano de la red"
   ]
  },
  {
   "cell_type": "code",
   "execution_count": 13,
   "metadata": {},
   "outputs": [
    {
     "data": {
      "text/html": [
       "<div>\n",
       "<style scoped>\n",
       "    .dataframe tbody tr th:only-of-type {\n",
       "        vertical-align: middle;\n",
       "    }\n",
       "\n",
       "    .dataframe tbody tr th {\n",
       "        vertical-align: top;\n",
       "    }\n",
       "\n",
       "    .dataframe thead th {\n",
       "        text-align: right;\n",
       "    }\n",
       "</style>\n",
       "<table border=\"1\" class=\"dataframe\">\n",
       "  <thead>\n",
       "    <tr style=\"text-align: right;\">\n",
       "      <th></th>\n",
       "      <th>id_etapa4</th>\n",
       "      <th>closest_node</th>\n",
       "    </tr>\n",
       "  </thead>\n",
       "  <tbody>\n",
       "    <tr>\n",
       "      <th>0</th>\n",
       "      <td>423818</td>\n",
       "      <td>4283</td>\n",
       "    </tr>\n",
       "    <tr>\n",
       "      <th>1</th>\n",
       "      <td>482880</td>\n",
       "      <td>11908</td>\n",
       "    </tr>\n",
       "    <tr>\n",
       "      <th>2</th>\n",
       "      <td>6254777</td>\n",
       "      <td>24593</td>\n",
       "    </tr>\n",
       "    <tr>\n",
       "      <th>3</th>\n",
       "      <td>481138</td>\n",
       "      <td>12911</td>\n",
       "    </tr>\n",
       "    <tr>\n",
       "      <th>4</th>\n",
       "      <td>403180</td>\n",
       "      <td>11912</td>\n",
       "    </tr>\n",
       "  </tbody>\n",
       "</table>\n",
       "</div>"
      ],
      "text/plain": [
       "   id_etapa4  closest_node\n",
       "0     423818          4283\n",
       "1     482880         11908\n",
       "2    6254777         24593\n",
       "3     481138         12911\n",
       "4     403180         11912"
      ]
     },
     "execution_count": 13,
     "metadata": {},
     "output_type": "execute_result"
    }
   ],
   "source": [
    "node_relations_list[-1].head()"
   ]
  },
  {
   "cell_type": "markdown",
   "metadata": {},
   "source": [
    "Leemos cada etapa con su identificador de closest_node"
   ]
  },
  {
   "cell_type": "code",
   "execution_count": 14,
   "metadata": {},
   "outputs": [],
   "source": [
    "etapas_gdfs = []\n",
    "for etapa in etapas:\n",
    "    sql = \"\"\"select a.id, a.geom, b.closest_node\n",
    "             from %(etapa)s a\n",
    "             join %(etapa)s_node b\n",
    "             on a.id = b.id_%(etapa)s\"\"\" % {\"etapa\":etapa}\n",
    "    etapas_gdfs.append(gpd.GeoDataFrame.from_postgis(sql, con, geom_col='geom'))"
   ]
  },
  {
   "cell_type": "markdown",
   "metadata": {},
   "source": [
    "### Costos por etapa\n",
    "\n",
    "Primero la función que calcula el costo acumulado entre etapas sucesivas (esto asume que la lista de etapas está ordenada). Como pueden ver esto también es una función que trabaja con postGis"
   ]
  },
  {
   "cell_type": "code",
   "execution_count": 15,
   "metadata": {},
   "outputs": [],
   "source": [
    "def stage_cost(source_table, target_table, cost_column):\n",
    "    params = {'source': source_table, 'target': target_table, 'cost': cost_column }\n",
    "    qry_str = \"\"\"SELECT DISTINCT ON (start_vid)\n",
    "                 start_vid as id_%(source)s, end_vid as id_%(target)s, agg_cost as costo_%(source)s_%(target)s\n",
    "          FROM   (SELECT * FROM pgr_dijkstraCost(\n",
    "              'select id, source, target, %(cost)s as cost from red',\n",
    "              array(select distinct(s.closest_node) from (select e.*, r.closest_node\n",
    "                                                        from %(source)s e\n",
    "                                                        join %(source)s_node r\n",
    "                                                        on e.id = r.id_%(source)s::int) as s),\n",
    "              array(select distinct(t.closest_node) from (select e.*, r.closest_node\n",
    "                                                        from %(target)s e\n",
    "                                                        join %(target)s_node r\n",
    "                                                        on e.id = r.id_%(target)s::int) as t),\n",
    "                 directed:=false)\n",
    "          ) as sub\n",
    "          ORDER  BY start_vid, agg_cost asc\"\"\" % params\n",
    "    try:\n",
    "        df = pd.read_sql(qry_str, engine)\n",
    "    except ValueError as e:\n",
    "        print(e)\n",
    "    return df"
   ]
  },
  {
   "cell_type": "markdown",
   "metadata": {},
   "source": [
    "Posteriormente es necesario calcular las distancias entre los puntos de cada etapa, si lo vemos con ejemplo individual entre dos etamas se calcularía de la siguiente forma:"
   ]
  },
  {
   "cell_type": "code",
   "execution_count": 18,
   "metadata": {},
   "outputs": [
    {
     "data": {
      "text/html": [
       "<div>\n",
       "<style scoped>\n",
       "    .dataframe tbody tr th:only-of-type {\n",
       "        vertical-align: middle;\n",
       "    }\n",
       "\n",
       "    .dataframe tbody tr th {\n",
       "        vertical-align: top;\n",
       "    }\n",
       "\n",
       "    .dataframe thead th {\n",
       "        text-align: right;\n",
       "    }\n",
       "</style>\n",
       "<table border=\"1\" class=\"dataframe\">\n",
       "  <thead>\n",
       "    <tr style=\"text-align: right;\">\n",
       "      <th></th>\n",
       "      <th>id_etapa1</th>\n",
       "      <th>id_etapa2</th>\n",
       "      <th>costo_etapa1_etapa2</th>\n",
       "    </tr>\n",
       "  </thead>\n",
       "  <tbody>\n",
       "    <tr>\n",
       "      <th>0</th>\n",
       "      <td>4638</td>\n",
       "      <td>8709</td>\n",
       "      <td>71171.567979</td>\n",
       "    </tr>\n",
       "    <tr>\n",
       "      <th>1</th>\n",
       "      <td>5077</td>\n",
       "      <td>8473</td>\n",
       "      <td>68720.880610</td>\n",
       "    </tr>\n",
       "    <tr>\n",
       "      <th>2</th>\n",
       "      <td>5399</td>\n",
       "      <td>8473</td>\n",
       "      <td>10582.036824</td>\n",
       "    </tr>\n",
       "    <tr>\n",
       "      <th>3</th>\n",
       "      <td>6738</td>\n",
       "      <td>24902</td>\n",
       "      <td>25630.037638</td>\n",
       "    </tr>\n",
       "    <tr>\n",
       "      <th>4</th>\n",
       "      <td>11122</td>\n",
       "      <td>8709</td>\n",
       "      <td>81400.272837</td>\n",
       "    </tr>\n",
       "    <tr>\n",
       "      <th>5</th>\n",
       "      <td>12459</td>\n",
       "      <td>18582</td>\n",
       "      <td>88454.749393</td>\n",
       "    </tr>\n",
       "    <tr>\n",
       "      <th>6</th>\n",
       "      <td>16990</td>\n",
       "      <td>21589</td>\n",
       "      <td>930.517860</td>\n",
       "    </tr>\n",
       "    <tr>\n",
       "      <th>7</th>\n",
       "      <td>17928</td>\n",
       "      <td>18582</td>\n",
       "      <td>47081.519979</td>\n",
       "    </tr>\n",
       "    <tr>\n",
       "      <th>8</th>\n",
       "      <td>19350</td>\n",
       "      <td>21399</td>\n",
       "      <td>16953.527582</td>\n",
       "    </tr>\n",
       "    <tr>\n",
       "      <th>9</th>\n",
       "      <td>19352</td>\n",
       "      <td>18582</td>\n",
       "      <td>19401.961503</td>\n",
       "    </tr>\n",
       "  </tbody>\n",
       "</table>\n",
       "</div>"
      ],
      "text/plain": [
       "   id_etapa1  id_etapa2  costo_etapa1_etapa2\n",
       "0       4638       8709         71171.567979\n",
       "1       5077       8473         68720.880610\n",
       "2       5399       8473         10582.036824\n",
       "3       6738      24902         25630.037638\n",
       "4      11122       8709         81400.272837\n",
       "5      12459      18582         88454.749393\n",
       "6      16990      21589           930.517860\n",
       "7      17928      18582         47081.519979\n",
       "8      19350      21399         16953.527582\n",
       "9      19352      18582         19401.961503"
      ]
     },
     "execution_count": 18,
     "metadata": {},
     "output_type": "execute_result"
    }
   ],
   "source": [
    "d0 = stage_cost(\"etapa1\", \"etapa2\", \"costo\")\n",
    "d0.head(10)"
   ]
  },
  {
   "cell_type": "markdown",
   "metadata": {},
   "source": [
    "Y para calcular todas las distancias:"
   ]
  },
  {
   "cell_type": "code",
   "execution_count": 19,
   "metadata": {},
   "outputs": [],
   "source": [
    "distancias = []\n",
    "for i, etapa in enumerate(etapas): \n",
    "    if i < len(etapas)-1:\n",
    "        stage = stage_cost(etapa,etapas[i+1], \"costo\")\n",
    "        cost_col = list(stage.columns)[-1]\n",
    "        stage.columns = ['start_' + str(i), 'end_' + str(i), cost_col]\n",
    "        stage.to_sql('dist_' + etapa, engine, index=False, if_exists='replace')\n",
    "        distancias.append(stage)"
   ]
  },
  {
   "cell_type": "code",
   "execution_count": 20,
   "metadata": {},
   "outputs": [
    {
     "data": {
      "text/html": [
       "<div>\n",
       "<style scoped>\n",
       "    .dataframe tbody tr th:only-of-type {\n",
       "        vertical-align: middle;\n",
       "    }\n",
       "\n",
       "    .dataframe tbody tr th {\n",
       "        vertical-align: top;\n",
       "    }\n",
       "\n",
       "    .dataframe thead th {\n",
       "        text-align: right;\n",
       "    }\n",
       "</style>\n",
       "<table border=\"1\" class=\"dataframe\">\n",
       "  <thead>\n",
       "    <tr style=\"text-align: right;\">\n",
       "      <th></th>\n",
       "      <th>start_0</th>\n",
       "      <th>end_0</th>\n",
       "      <th>costo_etapa1_etapa2</th>\n",
       "    </tr>\n",
       "  </thead>\n",
       "  <tbody>\n",
       "    <tr>\n",
       "      <th>0</th>\n",
       "      <td>4638</td>\n",
       "      <td>8709</td>\n",
       "      <td>71171.567979</td>\n",
       "    </tr>\n",
       "    <tr>\n",
       "      <th>1</th>\n",
       "      <td>5077</td>\n",
       "      <td>8473</td>\n",
       "      <td>68720.880610</td>\n",
       "    </tr>\n",
       "    <tr>\n",
       "      <th>2</th>\n",
       "      <td>5399</td>\n",
       "      <td>8473</td>\n",
       "      <td>10582.036824</td>\n",
       "    </tr>\n",
       "    <tr>\n",
       "      <th>3</th>\n",
       "      <td>6738</td>\n",
       "      <td>24902</td>\n",
       "      <td>25630.037638</td>\n",
       "    </tr>\n",
       "    <tr>\n",
       "      <th>4</th>\n",
       "      <td>11122</td>\n",
       "      <td>8709</td>\n",
       "      <td>81400.272837</td>\n",
       "    </tr>\n",
       "  </tbody>\n",
       "</table>\n",
       "</div>"
      ],
      "text/plain": [
       "   start_0  end_0  costo_etapa1_etapa2\n",
       "0     4638   8709         71171.567979\n",
       "1     5077   8473         68720.880610\n",
       "2     5399   8473         10582.036824\n",
       "3     6738  24902         25630.037638\n",
       "4    11122   8709         81400.272837"
      ]
     },
     "execution_count": 20,
     "metadata": {},
     "output_type": "execute_result"
    }
   ],
   "source": [
    "distancias[0].head()"
   ]
  },
  {
   "cell_type": "code",
   "execution_count": 21,
   "metadata": {},
   "outputs": [
    {
     "data": {
      "text/html": [
       "<div>\n",
       "<style scoped>\n",
       "    .dataframe tbody tr th:only-of-type {\n",
       "        vertical-align: middle;\n",
       "    }\n",
       "\n",
       "    .dataframe tbody tr th {\n",
       "        vertical-align: top;\n",
       "    }\n",
       "\n",
       "    .dataframe thead th {\n",
       "        text-align: right;\n",
       "    }\n",
       "</style>\n",
       "<table border=\"1\" class=\"dataframe\">\n",
       "  <thead>\n",
       "    <tr style=\"text-align: right;\">\n",
       "      <th></th>\n",
       "      <th>start_1</th>\n",
       "      <th>end_1</th>\n",
       "      <th>costo_etapa2_etapa3</th>\n",
       "    </tr>\n",
       "  </thead>\n",
       "  <tbody>\n",
       "    <tr>\n",
       "      <th>0</th>\n",
       "      <td>3393</td>\n",
       "      <td>4974</td>\n",
       "      <td>84969.108108</td>\n",
       "    </tr>\n",
       "    <tr>\n",
       "      <th>1</th>\n",
       "      <td>8033</td>\n",
       "      <td>8031</td>\n",
       "      <td>108.393775</td>\n",
       "    </tr>\n",
       "    <tr>\n",
       "      <th>2</th>\n",
       "      <td>8473</td>\n",
       "      <td>8031</td>\n",
       "      <td>14803.982914</td>\n",
       "    </tr>\n",
       "    <tr>\n",
       "      <th>3</th>\n",
       "      <td>8709</td>\n",
       "      <td>10352</td>\n",
       "      <td>20540.711121</td>\n",
       "    </tr>\n",
       "    <tr>\n",
       "      <th>4</th>\n",
       "      <td>11122</td>\n",
       "      <td>15203</td>\n",
       "      <td>69060.095000</td>\n",
       "    </tr>\n",
       "  </tbody>\n",
       "</table>\n",
       "</div>"
      ],
      "text/plain": [
       "   start_1  end_1  costo_etapa2_etapa3\n",
       "0     3393   4974         84969.108108\n",
       "1     8033   8031           108.393775\n",
       "2     8473   8031         14803.982914\n",
       "3     8709  10352         20540.711121\n",
       "4    11122  15203         69060.095000"
      ]
     },
     "execution_count": 21,
     "metadata": {},
     "output_type": "execute_result"
    }
   ],
   "source": [
    "distancias[1].head()"
   ]
  },
  {
   "cell_type": "code",
   "execution_count": 22,
   "metadata": {},
   "outputs": [
    {
     "data": {
      "text/html": [
       "<div>\n",
       "<style scoped>\n",
       "    .dataframe tbody tr th:only-of-type {\n",
       "        vertical-align: middle;\n",
       "    }\n",
       "\n",
       "    .dataframe tbody tr th {\n",
       "        vertical-align: top;\n",
       "    }\n",
       "\n",
       "    .dataframe thead th {\n",
       "        text-align: right;\n",
       "    }\n",
       "</style>\n",
       "<table border=\"1\" class=\"dataframe\">\n",
       "  <thead>\n",
       "    <tr style=\"text-align: right;\">\n",
       "      <th></th>\n",
       "      <th>start_2</th>\n",
       "      <th>end_2</th>\n",
       "      <th>costo_etapa3_etapa4</th>\n",
       "    </tr>\n",
       "  </thead>\n",
       "  <tbody>\n",
       "    <tr>\n",
       "      <th>0</th>\n",
       "      <td>1486</td>\n",
       "      <td>4603</td>\n",
       "      <td>30767.864728</td>\n",
       "    </tr>\n",
       "    <tr>\n",
       "      <th>1</th>\n",
       "      <td>4243</td>\n",
       "      <td>1265</td>\n",
       "      <td>42877.538337</td>\n",
       "    </tr>\n",
       "    <tr>\n",
       "      <th>2</th>\n",
       "      <td>4974</td>\n",
       "      <td>4603</td>\n",
       "      <td>14130.042401</td>\n",
       "    </tr>\n",
       "    <tr>\n",
       "      <th>3</th>\n",
       "      <td>8031</td>\n",
       "      <td>4603</td>\n",
       "      <td>24942.314935</td>\n",
       "    </tr>\n",
       "    <tr>\n",
       "      <th>4</th>\n",
       "      <td>8089</td>\n",
       "      <td>4603</td>\n",
       "      <td>78060.136791</td>\n",
       "    </tr>\n",
       "  </tbody>\n",
       "</table>\n",
       "</div>"
      ],
      "text/plain": [
       "   start_2  end_2  costo_etapa3_etapa4\n",
       "0     1486   4603         30767.864728\n",
       "1     4243   1265         42877.538337\n",
       "2     4974   4603         14130.042401\n",
       "3     8031   4603         24942.314935\n",
       "4     8089   4603         78060.136791"
      ]
     },
     "execution_count": 22,
     "metadata": {},
     "output_type": "execute_result"
    }
   ],
   "source": [
    "distancias[2].head()"
   ]
  },
  {
   "cell_type": "markdown",
   "metadata": {},
   "source": [
    "Ahora es necesario unirlas en un solo dataframe:"
   ]
  },
  {
   "cell_type": "code",
   "execution_count": 23,
   "metadata": {},
   "outputs": [
    {
     "data": {
      "text/html": [
       "<div>\n",
       "<style scoped>\n",
       "    .dataframe tbody tr th:only-of-type {\n",
       "        vertical-align: middle;\n",
       "    }\n",
       "\n",
       "    .dataframe tbody tr th {\n",
       "        vertical-align: top;\n",
       "    }\n",
       "\n",
       "    .dataframe thead th {\n",
       "        text-align: right;\n",
       "    }\n",
       "</style>\n",
       "<table border=\"1\" class=\"dataframe\">\n",
       "  <thead>\n",
       "    <tr style=\"text-align: right;\">\n",
       "      <th></th>\n",
       "      <th>start_0</th>\n",
       "      <th>end_0</th>\n",
       "      <th>costo_etapa1_etapa2</th>\n",
       "      <th>start_1</th>\n",
       "      <th>end_1</th>\n",
       "      <th>costo_etapa2_etapa3</th>\n",
       "      <th>start_2</th>\n",
       "      <th>end_2</th>\n",
       "      <th>costo_etapa3_etapa4</th>\n",
       "    </tr>\n",
       "  </thead>\n",
       "  <tbody>\n",
       "    <tr>\n",
       "      <th>0</th>\n",
       "      <td>4638</td>\n",
       "      <td>8709</td>\n",
       "      <td>71171.567979</td>\n",
       "      <td>8709</td>\n",
       "      <td>10352</td>\n",
       "      <td>20540.711121</td>\n",
       "      <td>10352</td>\n",
       "      <td>1265</td>\n",
       "      <td>64540.992779</td>\n",
       "    </tr>\n",
       "    <tr>\n",
       "      <th>1</th>\n",
       "      <td>11122</td>\n",
       "      <td>8709</td>\n",
       "      <td>81400.272837</td>\n",
       "      <td>8709</td>\n",
       "      <td>10352</td>\n",
       "      <td>20540.711121</td>\n",
       "      <td>10352</td>\n",
       "      <td>1265</td>\n",
       "      <td>64540.992779</td>\n",
       "    </tr>\n",
       "    <tr>\n",
       "      <th>2</th>\n",
       "      <td>5077</td>\n",
       "      <td>8473</td>\n",
       "      <td>68720.880610</td>\n",
       "      <td>8473</td>\n",
       "      <td>8031</td>\n",
       "      <td>14803.982914</td>\n",
       "      <td>8031</td>\n",
       "      <td>4603</td>\n",
       "      <td>24942.314935</td>\n",
       "    </tr>\n",
       "    <tr>\n",
       "      <th>3</th>\n",
       "      <td>5399</td>\n",
       "      <td>8473</td>\n",
       "      <td>10582.036824</td>\n",
       "      <td>8473</td>\n",
       "      <td>8031</td>\n",
       "      <td>14803.982914</td>\n",
       "      <td>8031</td>\n",
       "      <td>4603</td>\n",
       "      <td>24942.314935</td>\n",
       "    </tr>\n",
       "    <tr>\n",
       "      <th>4</th>\n",
       "      <td>6738</td>\n",
       "      <td>24902</td>\n",
       "      <td>25630.037638</td>\n",
       "      <td>24902</td>\n",
       "      <td>1486</td>\n",
       "      <td>173997.857087</td>\n",
       "      <td>1486</td>\n",
       "      <td>4603</td>\n",
       "      <td>30767.864728</td>\n",
       "    </tr>\n",
       "  </tbody>\n",
       "</table>\n",
       "</div>"
      ],
      "text/plain": [
       "   start_0  end_0  costo_etapa1_etapa2  start_1  end_1  costo_etapa2_etapa3  \\\n",
       "0     4638   8709         71171.567979     8709  10352         20540.711121   \n",
       "1    11122   8709         81400.272837     8709  10352         20540.711121   \n",
       "2     5077   8473         68720.880610     8473   8031         14803.982914   \n",
       "3     5399   8473         10582.036824     8473   8031         14803.982914   \n",
       "4     6738  24902         25630.037638    24902   1486        173997.857087   \n",
       "\n",
       "   start_2  end_2  costo_etapa3_etapa4  \n",
       "0    10352   1265         64540.992779  \n",
       "1    10352   1265         64540.992779  \n",
       "2     8031   4603         24942.314935  \n",
       "3     8031   4603         24942.314935  \n",
       "4     1486   4603         30767.864728  "
      ]
     },
     "execution_count": 23,
     "metadata": {},
     "output_type": "execute_result"
    }
   ],
   "source": [
    "c = pd.merge(distancias[0], distancias[1], left_on='end_0', right_on='start_1')\n",
    "d = pd.merge(c, distancias[2], left_on='end_1', right_on='start_2')\n",
    "d.head()"
   ]
  },
  {
   "cell_type": "markdown",
   "metadata": {},
   "source": [
    "Ahora creamos una tabla que contenga solo los puntos de inicio y final ylas distancias entre ellos, además del costo de transporte."
   ]
  },
  {
   "cell_type": "code",
   "execution_count": 24,
   "metadata": {},
   "outputs": [
    {
     "name": "stdout",
     "output_type": "stream",
     "text": [
      "0\n",
      "['start_0', 'end_0', 'costo_etapa1_etapa2', 'start_1', 'end_1', 'costo_etapa2_etapa3']\n",
      "1\n",
      "['start_0', 'end_0', 'costo_etapa1_etapa2', 'start_1', 'end_1', 'costo_etapa2_etapa3', 'start_2', 'end_2', 'costo_etapa3_etapa4']\n",
      "2\n"
     ]
    }
   ],
   "source": [
    "for i, distancia in enumerate(distancias):\n",
    "    print(i)\n",
    "    if i == 0:\n",
    "        costos = pd.merge(distancia, distancias[1], left_on='end_0', right_on='start_1')\n",
    "        print(list(costos.columns))\n",
    "        \n",
    "    elif i < len(distancias) - 1:\n",
    "        costos = pd.merge(costos, distancias[i+1], left_on='end_' + str(i), right_on='start_' + str(i+1))\n",
    "        print(list(costos.columns))"
   ]
  },
  {
   "cell_type": "code",
   "execution_count": 25,
   "metadata": {},
   "outputs": [
    {
     "data": {
      "text/html": [
       "<div>\n",
       "<style scoped>\n",
       "    .dataframe tbody tr th:only-of-type {\n",
       "        vertical-align: middle;\n",
       "    }\n",
       "\n",
       "    .dataframe tbody tr th {\n",
       "        vertical-align: top;\n",
       "    }\n",
       "\n",
       "    .dataframe thead th {\n",
       "        text-align: right;\n",
       "    }\n",
       "</style>\n",
       "<table border=\"1\" class=\"dataframe\">\n",
       "  <thead>\n",
       "    <tr style=\"text-align: right;\">\n",
       "      <th></th>\n",
       "      <th>start_0</th>\n",
       "      <th>end_0</th>\n",
       "      <th>costo_etapa1_etapa2</th>\n",
       "      <th>start_1</th>\n",
       "      <th>end_1</th>\n",
       "      <th>costo_etapa2_etapa3</th>\n",
       "      <th>start_2</th>\n",
       "      <th>end_2</th>\n",
       "      <th>costo_etapa3_etapa4</th>\n",
       "    </tr>\n",
       "  </thead>\n",
       "  <tbody>\n",
       "    <tr>\n",
       "      <th>0</th>\n",
       "      <td>4638</td>\n",
       "      <td>8709</td>\n",
       "      <td>71171.567979</td>\n",
       "      <td>8709</td>\n",
       "      <td>10352</td>\n",
       "      <td>20540.711121</td>\n",
       "      <td>10352</td>\n",
       "      <td>1265</td>\n",
       "      <td>64540.992779</td>\n",
       "    </tr>\n",
       "    <tr>\n",
       "      <th>1</th>\n",
       "      <td>11122</td>\n",
       "      <td>8709</td>\n",
       "      <td>81400.272837</td>\n",
       "      <td>8709</td>\n",
       "      <td>10352</td>\n",
       "      <td>20540.711121</td>\n",
       "      <td>10352</td>\n",
       "      <td>1265</td>\n",
       "      <td>64540.992779</td>\n",
       "    </tr>\n",
       "    <tr>\n",
       "      <th>2</th>\n",
       "      <td>5077</td>\n",
       "      <td>8473</td>\n",
       "      <td>68720.880610</td>\n",
       "      <td>8473</td>\n",
       "      <td>8031</td>\n",
       "      <td>14803.982914</td>\n",
       "      <td>8031</td>\n",
       "      <td>4603</td>\n",
       "      <td>24942.314935</td>\n",
       "    </tr>\n",
       "    <tr>\n",
       "      <th>3</th>\n",
       "      <td>5399</td>\n",
       "      <td>8473</td>\n",
       "      <td>10582.036824</td>\n",
       "      <td>8473</td>\n",
       "      <td>8031</td>\n",
       "      <td>14803.982914</td>\n",
       "      <td>8031</td>\n",
       "      <td>4603</td>\n",
       "      <td>24942.314935</td>\n",
       "    </tr>\n",
       "    <tr>\n",
       "      <th>4</th>\n",
       "      <td>6738</td>\n",
       "      <td>24902</td>\n",
       "      <td>25630.037638</td>\n",
       "      <td>24902</td>\n",
       "      <td>1486</td>\n",
       "      <td>173997.857087</td>\n",
       "      <td>1486</td>\n",
       "      <td>4603</td>\n",
       "      <td>30767.864728</td>\n",
       "    </tr>\n",
       "  </tbody>\n",
       "</table>\n",
       "</div>"
      ],
      "text/plain": [
       "   start_0  end_0  costo_etapa1_etapa2  start_1  end_1  costo_etapa2_etapa3  \\\n",
       "0     4638   8709         71171.567979     8709  10352         20540.711121   \n",
       "1    11122   8709         81400.272837     8709  10352         20540.711121   \n",
       "2     5077   8473         68720.880610     8473   8031         14803.982914   \n",
       "3     5399   8473         10582.036824     8473   8031         14803.982914   \n",
       "4     6738  24902         25630.037638    24902   1486        173997.857087   \n",
       "\n",
       "   start_2  end_2  costo_etapa3_etapa4  \n",
       "0    10352   1265         64540.992779  \n",
       "1    10352   1265         64540.992779  \n",
       "2     8031   4603         24942.314935  \n",
       "3     8031   4603         24942.314935  \n",
       "4     1486   4603         30767.864728  "
      ]
     },
     "execution_count": 25,
     "metadata": {},
     "output_type": "execute_result"
    }
   ],
   "source": [
    "costos.head()"
   ]
  },
  {
   "cell_type": "markdown",
   "metadata": {},
   "source": [
    "Para poder hacer la interpolación IDW, necesitamos solo el identificador de los puntos de la primer etapa para hacer un merge con las geometrías y los costos acumulados de las demás. "
   ]
  },
  {
   "cell_type": "code",
   "execution_count": 26,
   "metadata": {},
   "outputs": [],
   "source": [
    "costos_acumulados = costos.iloc[:, costos.columns.str.contains('costo_')].cumsum(axis=1)\n",
    "costos_acumulados = costos_acumulados.merge(costos.iloc[:,[0]], left_index=True, right_index=True)"
   ]
  },
  {
   "cell_type": "code",
   "execution_count": 27,
   "metadata": {},
   "outputs": [
    {
     "data": {
      "text/html": [
       "<div>\n",
       "<style scoped>\n",
       "    .dataframe tbody tr th:only-of-type {\n",
       "        vertical-align: middle;\n",
       "    }\n",
       "\n",
       "    .dataframe tbody tr th {\n",
       "        vertical-align: top;\n",
       "    }\n",
       "\n",
       "    .dataframe thead th {\n",
       "        text-align: right;\n",
       "    }\n",
       "</style>\n",
       "<table border=\"1\" class=\"dataframe\">\n",
       "  <thead>\n",
       "    <tr style=\"text-align: right;\">\n",
       "      <th></th>\n",
       "      <th>costo_etapa1_etapa2</th>\n",
       "      <th>costo_etapa2_etapa3</th>\n",
       "      <th>costo_etapa3_etapa4</th>\n",
       "      <th>start_0</th>\n",
       "    </tr>\n",
       "  </thead>\n",
       "  <tbody>\n",
       "    <tr>\n",
       "      <th>0</th>\n",
       "      <td>71171.567979</td>\n",
       "      <td>91712.279101</td>\n",
       "      <td>156253.271880</td>\n",
       "      <td>4638</td>\n",
       "    </tr>\n",
       "    <tr>\n",
       "      <th>1</th>\n",
       "      <td>81400.272837</td>\n",
       "      <td>101940.983958</td>\n",
       "      <td>166481.976738</td>\n",
       "      <td>11122</td>\n",
       "    </tr>\n",
       "    <tr>\n",
       "      <th>2</th>\n",
       "      <td>68720.880610</td>\n",
       "      <td>83524.863523</td>\n",
       "      <td>108467.178459</td>\n",
       "      <td>5077</td>\n",
       "    </tr>\n",
       "    <tr>\n",
       "      <th>3</th>\n",
       "      <td>10582.036824</td>\n",
       "      <td>25386.019738</td>\n",
       "      <td>50328.334673</td>\n",
       "      <td>5399</td>\n",
       "    </tr>\n",
       "    <tr>\n",
       "      <th>4</th>\n",
       "      <td>25630.037638</td>\n",
       "      <td>199627.894726</td>\n",
       "      <td>230395.759454</td>\n",
       "      <td>6738</td>\n",
       "    </tr>\n",
       "  </tbody>\n",
       "</table>\n",
       "</div>"
      ],
      "text/plain": [
       "   costo_etapa1_etapa2  costo_etapa2_etapa3  costo_etapa3_etapa4  start_0\n",
       "0         71171.567979         91712.279101        156253.271880     4638\n",
       "1         81400.272837        101940.983958        166481.976738    11122\n",
       "2         68720.880610         83524.863523        108467.178459     5077\n",
       "3         10582.036824         25386.019738         50328.334673     5399\n",
       "4         25630.037638        199627.894726        230395.759454     6738"
      ]
     },
     "execution_count": 27,
     "metadata": {},
     "output_type": "execute_result"
    }
   ],
   "source": [
    "costos_acumulados.head()"
   ]
  },
  {
   "cell_type": "code",
   "execution_count": 28,
   "metadata": {},
   "outputs": [
    {
     "data": {
      "text/html": [
       "<div>\n",
       "<style scoped>\n",
       "    .dataframe tbody tr th:only-of-type {\n",
       "        vertical-align: middle;\n",
       "    }\n",
       "\n",
       "    .dataframe tbody tr th {\n",
       "        vertical-align: top;\n",
       "    }\n",
       "\n",
       "    .dataframe thead th {\n",
       "        text-align: right;\n",
       "    }\n",
       "</style>\n",
       "<table border=\"1\" class=\"dataframe\">\n",
       "  <thead>\n",
       "    <tr style=\"text-align: right;\">\n",
       "      <th></th>\n",
       "      <th>id</th>\n",
       "      <th>geom</th>\n",
       "      <th>closest_node</th>\n",
       "    </tr>\n",
       "  </thead>\n",
       "  <tbody>\n",
       "    <tr>\n",
       "      <th>0</th>\n",
       "      <td>1</td>\n",
       "      <td>POINT (600897.9863290923 1789280.118662399)</td>\n",
       "      <td>21715</td>\n",
       "    </tr>\n",
       "    <tr>\n",
       "      <th>1</th>\n",
       "      <td>2</td>\n",
       "      <td>POINT (550453.4179119855 1692602.368514441)</td>\n",
       "      <td>24137</td>\n",
       "    </tr>\n",
       "    <tr>\n",
       "      <th>2</th>\n",
       "      <td>3</td>\n",
       "      <td>POINT (576755.019745179 1740853.210834095)</td>\n",
       "      <td>16990</td>\n",
       "    </tr>\n",
       "    <tr>\n",
       "      <th>3</th>\n",
       "      <td>4</td>\n",
       "      <td>POINT (556049.3236988379 1880398.360197756)</td>\n",
       "      <td>4638</td>\n",
       "    </tr>\n",
       "    <tr>\n",
       "      <th>4</th>\n",
       "      <td>5</td>\n",
       "      <td>POINT (488724.6064205672 1849762.308867841)</td>\n",
       "      <td>5399</td>\n",
       "    </tr>\n",
       "  </tbody>\n",
       "</table>\n",
       "</div>"
      ],
      "text/plain": [
       "   id                                         geom  closest_node\n",
       "0   1  POINT (600897.9863290923 1789280.118662399)         21715\n",
       "1   2  POINT (550453.4179119855 1692602.368514441)         24137\n",
       "2   3   POINT (576755.019745179 1740853.210834095)         16990\n",
       "3   4  POINT (556049.3236988379 1880398.360197756)          4638\n",
       "4   5  POINT (488724.6064205672 1849762.308867841)          5399"
      ]
     },
     "execution_count": 28,
     "metadata": {},
     "output_type": "execute_result"
    }
   ],
   "source": [
    "etapas_gdfs[0].head()"
   ]
  },
  {
   "cell_type": "code",
   "execution_count": 29,
   "metadata": {},
   "outputs": [
    {
     "data": {
      "text/html": [
       "<div>\n",
       "<style scoped>\n",
       "    .dataframe tbody tr th:only-of-type {\n",
       "        vertical-align: middle;\n",
       "    }\n",
       "\n",
       "    .dataframe tbody tr th {\n",
       "        vertical-align: top;\n",
       "    }\n",
       "\n",
       "    .dataframe thead th {\n",
       "        text-align: right;\n",
       "    }\n",
       "</style>\n",
       "<table border=\"1\" class=\"dataframe\">\n",
       "  <thead>\n",
       "    <tr style=\"text-align: right;\">\n",
       "      <th></th>\n",
       "      <th>id</th>\n",
       "      <th>geom</th>\n",
       "      <th>closest_node</th>\n",
       "      <th>costo_etapa1_etapa2</th>\n",
       "      <th>costo_etapa2_etapa3</th>\n",
       "      <th>costo_etapa3_etapa4</th>\n",
       "      <th>start_0</th>\n",
       "    </tr>\n",
       "  </thead>\n",
       "  <tbody>\n",
       "    <tr>\n",
       "      <th>0</th>\n",
       "      <td>1</td>\n",
       "      <td>POINT (600897.9863290923 1789280.118662399)</td>\n",
       "      <td>21715</td>\n",
       "      <td>95974.508592</td>\n",
       "      <td>196111.828210</td>\n",
       "      <td>219309.294071</td>\n",
       "      <td>21715</td>\n",
       "    </tr>\n",
       "    <tr>\n",
       "      <th>1</th>\n",
       "      <td>2</td>\n",
       "      <td>POINT (550453.4179119855 1692602.368514441)</td>\n",
       "      <td>24137</td>\n",
       "      <td>27959.075368</td>\n",
       "      <td>77144.890627</td>\n",
       "      <td>102043.965826</td>\n",
       "      <td>24137</td>\n",
       "    </tr>\n",
       "    <tr>\n",
       "      <th>2</th>\n",
       "      <td>3</td>\n",
       "      <td>POINT (576755.019745179 1740853.210834095)</td>\n",
       "      <td>16990</td>\n",
       "      <td>930.517860</td>\n",
       "      <td>129933.125472</td>\n",
       "      <td>153130.591333</td>\n",
       "      <td>16990</td>\n",
       "    </tr>\n",
       "    <tr>\n",
       "      <th>3</th>\n",
       "      <td>4</td>\n",
       "      <td>POINT (556049.3236988379 1880398.360197756)</td>\n",
       "      <td>4638</td>\n",
       "      <td>71171.567979</td>\n",
       "      <td>91712.279101</td>\n",
       "      <td>156253.271880</td>\n",
       "      <td>4638</td>\n",
       "    </tr>\n",
       "    <tr>\n",
       "      <th>4</th>\n",
       "      <td>5</td>\n",
       "      <td>POINT (488724.6064205672 1849762.308867841)</td>\n",
       "      <td>5399</td>\n",
       "      <td>10582.036824</td>\n",
       "      <td>25386.019738</td>\n",
       "      <td>50328.334673</td>\n",
       "      <td>5399</td>\n",
       "    </tr>\n",
       "  </tbody>\n",
       "</table>\n",
       "</div>"
      ],
      "text/plain": [
       "   id                                         geom  closest_node  \\\n",
       "0   1  POINT (600897.9863290923 1789280.118662399)         21715   \n",
       "1   2  POINT (550453.4179119855 1692602.368514441)         24137   \n",
       "2   3   POINT (576755.019745179 1740853.210834095)         16990   \n",
       "3   4  POINT (556049.3236988379 1880398.360197756)          4638   \n",
       "4   5  POINT (488724.6064205672 1849762.308867841)          5399   \n",
       "\n",
       "   costo_etapa1_etapa2  costo_etapa2_etapa3  costo_etapa3_etapa4  start_0  \n",
       "0         95974.508592        196111.828210        219309.294071    21715  \n",
       "1         27959.075368         77144.890627        102043.965826    24137  \n",
       "2           930.517860        129933.125472        153130.591333    16990  \n",
       "3         71171.567979         91712.279101        156253.271880     4638  \n",
       "4         10582.036824         25386.019738         50328.334673     5399  "
      ]
     },
     "execution_count": 29,
     "metadata": {},
     "output_type": "execute_result"
    }
   ],
   "source": [
    "costos_acumulados = etapas_gdfs[0].merge(costos_acumulados, left_on = 'closest_node', right_on = 'start_0')\n",
    "costos_acumulados.head()"
   ]
  },
  {
   "cell_type": "markdown",
   "metadata": {},
   "source": [
    "Ahora hacemos la interpolación y creamos shp's por etapa:"
   ]
  },
  {
   "cell_type": "code",
   "execution_count": 32,
   "metadata": {},
   "outputs": [
    {
     "name": "stdout",
     "output_type": "stream",
     "text": [
      "El raster de costos no fue creado\n",
      "El raster de costos no fue creado\n",
      "El raster de costos no fue creado\n"
     ]
    }
   ],
   "source": [
    "for columna in costos_acumulados:\n",
    "    if columna.startswith('costo_'):\n",
    "        write_me = costos_acumulados[['id', 'geom', columna]]\n",
    "        write_me.columns = ['id', 'geom', 'costo']\n",
    "        write_me.to_file(driver= 'ESRI Shapefile', filename= \"idw/\" + columna + '.shp')\n",
    "        comando = ['gdal_grid', '-zfield', 'costo', '-l', columna, '-a',\n",
    "           'invdist:power=2.0:smothing=0.0:radius1=0.0:radius2=0.0:angle=0.0:max_points=0:min_points=0:nodata=0.0',\n",
    "           '-of', 'GTiff', 'idw/'+ columna + '.shp', 'idw/'+ columna+'.tif']\n",
    "    try:\n",
    "        call(comando)\n",
    "    except:\n",
    "        print('El raster de costos fue creado')"
   ]
  },
  {
   "cell_type": "code",
   "execution_count": 29,
   "metadata": {},
   "outputs": [],
   "source": [
    "con.close()\n",
    "#con = psycopg2.connect(database= db, user=usr, password=psw, host=host)"
   ]
  }
 ],
 "metadata": {
  "kernelspec": {
   "display_name": "Python 3",
   "language": "python",
   "name": "python3"
  },
  "language_info": {
   "codemirror_mode": {
    "name": "ipython",
    "version": 3
   },
   "file_extension": ".py",
   "mimetype": "text/x-python",
   "name": "python",
   "nbconvert_exporter": "python",
   "pygments_lexer": "ipython3",
   "version": "3.7.3"
  }
 },
 "nbformat": 4,
 "nbformat_minor": 2
}
